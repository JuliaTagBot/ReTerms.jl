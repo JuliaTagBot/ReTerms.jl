{
 "cells": [
  {
   "cell_type": "markdown",
   "metadata": {
    "slideshow": {
     "slide_type": "slide"
    }
   },
   "source": [
    "# Mixing it up - why Julia is amazing\n",
    "\n",
    "## Douglas Bates, U. of Wisconsin - Madison"
   ]
  },
  {
   "cell_type": "markdown",
   "metadata": {
    "slideshow": {
     "slide_type": "slide"
    }
   },
   "source": [
    "## Background\n",
    "- I'm an early user of __S__ and a core developer of __R__\n",
    "- The \"mixed-effects models\" __R__ packages I helped create, _nlme_ and _lme4_, required a lot of C/C++ code for performance.\n",
    "    * [lme4](https://github.com/lme4/lme4) uses _R_, _Rcpp_, and _Eigen_\n",
    "    * much effort to avoid making copies of large objects, not always successfully\n",
    "    * examples can take many hours/days to fit, often causing swap thrashing."
   ]
  },
  {
   "cell_type": "markdown",
   "metadata": {
    "slideshow": {
     "slide_type": "slide"
    }
   },
   "source": [
    "## Basic structure of problem, without the \"why\"\n",
    "* observed response vector, $\\bf y$, of length $n$.\n",
    "* two (known) model matrices\n",
    "    - $\\bf X$ (size $n\\times p$) long, skinny and dense\n",
    "    - $\\bf Z$ (size $n\\times q$) long, wide and very sparse\n",
    "* probability model\n",
    "$$\n",
    "\\begin{aligned}\n",
    "\\mathcal{B} & \\sim \\mathcal{N}\\left({\\bf 0},\\Sigma\\right)\\\\\n",
    "\\mathcal{Y}|\\left(\\mathcal{B}=\\bf b\\right) & \\sim \\mathcal{N}\\left({\\bf X\\beta+Zb}, \\sigma^2\\bf I_n\\right)\n",
    "\\end{aligned}\n",
    "$$\n",
    "* it is convenient to write $\\bf b=\\Lambda_\\theta u$, where $\\Sigma=\\sigma^2\\bf\\Lambda_\\theta\\Lambda_\\theta'$, and $\\mathcal{U}\\sim\\mathcal{N}({\\bf 0},\\sigma^2\\bf I_q)$"
   ]
  },
  {
   "cell_type": "markdown",
   "metadata": {
    "slideshow": {
     "slide_type": "slide"
    }
   },
   "source": [
    "## The role of terms\n",
    "* Both $\\bf X$ and $\\bf Z$ are divided into blocks of columns associated with \"terms\" in the model.\n",
    "* For $\\bf Z$ the columns within a term are indicators or derived from indicators\n",
    "* The terms for $\\bf Z$ also determine the structure of $\\bf\\Lambda_\\theta$.\n",
    "    - $\\bf\\Lambda_\\theta$ is block diagonal according to blocks of $\\bf Z$.\n",
    "    - For \"scalar random effects\" each block is a multiple of the identity.\n",
    "    - For \"vector-valued random effects\" each block is itself block diagonal. The smaller blocks are repetitions of a small lower triangular matrix."
   ]
  },
  {
   "cell_type": "markdown",
   "metadata": {
    "slideshow": {
     "slide_type": "slide"
    }
   },
   "source": [
    "## A small example\n",
    "- The `InstEval` data in [lme4](https://github.com/lme4/lme4) contain evaluation scores, `Y`, by student, `S`, of instructor, `D`, in department, `P`.  `R` indicates a service course."
   ]
  },
  {
   "cell_type": "code",
   "execution_count": 1,
   "metadata": {
    "collapsed": false,
    "slideshow": {
     "slide_type": "-"
    }
   },
   "outputs": [
    {
     "name": "stdout",
     "output_type": "stream",
     "text": [
      "Dict{Symbol,Any} len 5\n",
      "  R: DataArrays.PooledDataArray{Int32,UInt8,1}(73421) Int32[1,2,1,2]\n",
      "  S: DataArrays.PooledDataArray{Int32,UInt16,1}(73421) Int32[1,1,1,1]\n",
      "  P: DataArrays.PooledDataArray{Int32,UInt8,1}(73421) Int32[14,5,14,12]\n",
      "  D: DataArrays.PooledDataArray{Int32,UInt16,1}(73421) Int32[525,560,832,1068]\n",
      "  Y: Array(Float32,(73421,)) Float32"
     ]
    }
   ],
   "source": [
    "using HDF5,ReTerms,StatsBase\n",
    "inst = h5open(\"/var/tmp/dat.h5\",\"r\") do io g2dict(io,\"inst\") end;\n",
    "dump(inst)"
   ]
  },
  {
   "cell_type": "code",
   "execution_count": 2,
   "metadata": {
    "collapsed": false,
    "slideshow": {
     "slide_type": "slide"
    }
   },
   "outputs": [
    {
     "data": {
      "text/plain": [
       "(73421,2)"
      ]
     },
     "execution_count": 2,
     "metadata": {},
     "output_type": "execute_result"
    }
   ],
   "source": [
    "X = hcat(ones(length(inst[:Y])),inst[:R] .- 1);\n",
    "size(X)"
   ]
  },
  {
   "cell_type": "code",
   "execution_count": 3,
   "metadata": {
    "collapsed": false
   },
   "outputs": [
    {
     "name": "stdout",
     "output_type": "stream",
     "text": [
      "(73421,2972)\n",
      "(73421,1128)\n",
      "(73421,14)\n",
      "(73421,3)\n"
     ]
    }
   ],
   "source": [
    "m1 = LMM(X,[reterm(inst[s]) for s in [:S,:D,:P]],inst[:Y]);\n",
    "for t in m1.trms println(size(t)) end"
   ]
  },
  {
   "cell_type": "markdown",
   "metadata": {
    "slideshow": {
     "slide_type": "slide"
    }
   },
   "source": [
    "## The log-likelihood function\n",
    "The _profiled_ log-likelihood,\n",
    "$$\n",
    "-2\\ell(\\bf\\theta|y)=\\log\\left|\\bf\\Lambda_\\theta'Z'Z\\Lambda_\\theta+I\\right|+\n",
    "n\\left(1+\\log\\left(\\frac{2\\pi\\rho^2(\\theta)}n\\right)\\right),\n",
    "$$\n",
    "where\n",
    "$$\n",
    "\\rho^2(\\bf\\theta)=\n",
    "\\min_{\\bf\\beta,u} \n",
    "\\left\\|\n",
    "\\begin{bmatrix}\n",
    "\\bf y\\\\\n",
    "\\bf 0\n",
    "\\end{bmatrix} -\n",
    "\\begin{bmatrix}\n",
    "\\bf Z\\Lambda_\\theta & \\bf X \\\\\n",
    "\\bf I_q & \\bf 0\n",
    "\\end{bmatrix}\n",
    "\\begin{bmatrix}\n",
    "\\bf u\\\\\n",
    "\\beta\n",
    "\\end{bmatrix}\n",
    "\\right\\|^2,\n",
    "$$\n",
    "can be evaluated from the Cholesky factor of\n",
    "$$\n",
    "\\begin{bmatrix}\n",
    "\\bf\\Lambda_\\theta'Z'Z\\Lambda_\\theta+I & \\bf\\Lambda_\\theta'Z'X & \\bf\\Lambda_\\theta'Z'y\\\\\n",
    "\\bf X'Z\\Lambda_\\theta & \\bf X'X & \\bf X'y\\\\\n",
    "\\bf y'Z\\Lambda_\\theta & \\bf y'X & \\bf y'y\n",
    "\\end{bmatrix}\n",
    "$$"
   ]
  },
  {
   "cell_type": "markdown",
   "metadata": {
    "slideshow": {
     "slide_type": "slide"
    }
   },
   "source": [
    "## In practice\n",
    "- concatenate $\\bf X$ and $\\bf y$ (`hcat`)\n",
    "- use block structure of $\\bf Z$ and $\\bf\\Lambda_\\theta$\n",
    "- precompute and save $\\bf Z'Z$ (in blocks), $\\bf[Xy]'Z$ (also in blocks) and $\\bf[Xy]'[Xy]$.\n",
    "- for each value of $\\bf\\theta$\n",
    "    * copy stored values to $\\bf L$ (lower triangle only)\n",
    "    * scale columns and rows by $\\bf\\Lambda_\\theta$\n",
    "    * inflate diagonal of $\\bf\\Lambda_\\theta'Z'Z\\Lambda_\\theta$\n",
    "    * Cholesky"
   ]
  },
  {
   "cell_type": "code",
   "execution_count": 4,
   "metadata": {
    "collapsed": false,
    "slideshow": {
     "slide_type": "slide"
    }
   },
   "outputs": [
    {
     "data": {
      "text/plain": [
       "(4,4)"
      ]
     },
     "execution_count": 4,
     "metadata": {},
     "output_type": "execute_result"
    }
   ],
   "source": [
    "size(m1.A)   # saved products (lower triangle)"
   ]
  },
  {
   "cell_type": "code",
   "execution_count": 5,
   "metadata": {
    "collapsed": false
   },
   "outputs": [
    {
     "name": "stdout",
     "output_type": "stream",
     "text": [
      "1,1: (2972,2972) Base.LinAlg.Diagonal{Float64}\n",
      "2,1: (1128,2972) Base.SparseMatrix.SparseMatrixCSC{Float64,Int32}\n",
      "3,1: (14,2972) Array{Float64,2}\n",
      "4,1: (3,2972) Array{Float64,2}\n",
      "2,2: (1128,1128) Base.LinAlg.Diagonal{Float64}\n",
      "3,2: (14,1128) Base.SparseMatrix.SparseMatrixCSC{Float64,Int32}\n",
      "4,2: (3,1128) Array{Float64,2}\n",
      "3,3: (14,14) Base.LinAlg.Diagonal{Float64}\n",
      "4,3: (3,14) Array{Float64,2}\n",
      "4,4: (3,3) Base.LinAlg.LowerTriangular{Float64,Array{Float64,2}}\n"
     ]
    }
   ],
   "source": [
    "for j in 1:4, i in j:4 \n",
    "    println(i,\",\",j,\": \",size(m1.A[i,j]),\" \",typeof(m1.A[i,j])) \n",
    "end"
   ]
  },
  {
   "cell_type": "code",
   "execution_count": 6,
   "metadata": {
    "collapsed": false,
    "slideshow": {
     "slide_type": "slide"
    }
   },
   "outputs": [
    {
     "name": "stdout",
     "output_type": "stream",
     "text": [
      "1,1: Base.LinAlg.Diagonal{Float64}\n",
      "2,1: Base.SparseMatrix.SparseMatrixCSC{Float64,Int32}\n",
      "3,1: Array{Float64,2}\n",
      "4,1: Array{Float64,2}\n",
      "2,2: Base.LinAlg.LowerTriangular{Float64,Array{Float64,2}}\n",
      "3,2: Array{Float64,2}\n",
      "4,2: Array{Float64,2}\n",
      "3,3: Base.LinAlg.LowerTriangular{Float64,Array{Float64,2}}\n",
      "4,3: Array{Float64,2}\n",
      "4,4: Base.LinAlg.LowerTriangular{Float64,Array{Float64,2}}\n"
     ]
    }
   ],
   "source": [
    "for j in 1:4, i in j:4 println(i,\",\",j,\": \",typeof(m1.L[i,j])) end"
   ]
  },
  {
   "cell_type": "code",
   "execution_count": 8,
   "metadata": {
    "collapsed": false,
    "slideshow": {
     "slide_type": "slide"
    }
   },
   "outputs": [
    {
     "data": {
      "text/plain": [
       "mycfactor! (generic function with 1 method)"
      ]
     },
     "execution_count": 8,
     "metadata": {},
     "output_type": "execute_result"
    }
   ],
   "source": [
    "@doc \"In-place lower Cholesky factor by blocks\"->\n",
    "function mycfactor!(A::AbstractMatrix)\n",
    "    n = Base.LinAlg.chksquare(A)\n",
    "    @inbounds begin\n",
    "        for k = 1:n\n",
    "            for j in 1:(k - 1)\n",
    "                downdate!(A[k,k],A[k,j])  # A[k,k] -= A[k,j]*A[k,j]'\n",
    "            end\n",
    "            cfactor!(A[k,k])   # (lower) Cholesky factor of A[k,k]\n",
    "            for i in (k + 1):n\n",
    "                for j in 1:(k - 1)\n",
    "                    downdate!(A[i,k],A[i,j],A[k,j]) # A[i,k] -= A[i,j]*A[k,j]\n",
    "                end\n",
    "                Base.LinAlg.A_rdiv_Bc!(A[i,k],A[k,k])\n",
    "            end\n",
    "        end\n",
    "    end\n",
    "    return LowerTriangular(A)\n",
    "end"
   ]
  },
  {
   "cell_type": "code",
   "execution_count": 9,
   "metadata": {
    "collapsed": false,
    "slideshow": {
     "slide_type": "slide"
    }
   },
   "outputs": [
    {
     "data": {
      "text/plain": [
       "myobjective (generic function with 1 method)"
      ]
     },
     "execution_count": 9,
     "metadata": {},
     "output_type": "execute_result"
    }
   ],
   "source": [
    "@doc \"Negative twice the log-likelihood\"->\n",
    "function myobjective(lmm::LMM)\n",
    "    n = size(lmm.trms[1],1)\n",
    "    logdet(lmm) + n*(1.+log(2π*abs2(lmm.L[end,end][end,end])/n))\n",
    "end"
   ]
  },
  {
   "cell_type": "code",
   "execution_count": 11,
   "metadata": {
    "collapsed": false
   },
   "outputs": [
    {
     "data": {
      "text/plain": [
       "mylogdet (generic function with 1 method)"
      ]
     },
     "execution_count": 11,
     "metadata": {},
     "output_type": "execute_result"
    }
   ],
   "source": [
    "@doc \"Log-determinant of Λ'Z'ZΛ + I\"->\n",
    "mylogdet(lmm::LMM) = 2.*mapreduce(logdet,(+),diag(lmm.L)[1:end-1])\n"
   ]
  },
  {
   "cell_type": "markdown",
   "metadata": {
    "slideshow": {
     "slide_type": "slide"
    }
   },
   "source": [
    "## Why Julia?\n",
    "- One Language (to rule them all).  Flexibility and performance under one roof.\n",
    "- Rich, extensible type system.\n",
    "    * a matrix of matrices is no big deal to create\n",
    "- Multiple dispatch\n",
    "    * handle all the combinations, permutations of sparse, dense, diagonal, triangular in 3-argument form of `downdate!` by writing methods.\n",
    "- A friendly community of very talented people."
   ]
  }
 ],
 "metadata": {
  "celltoolbar": "Slideshow",
  "kernelspec": {
   "display_name": "Julia 0.4.0-dev",
   "language": "julia",
   "name": "julia-0.4"
  },
  "language_info": {
   "name": "julia",
   "version": "0.4.0"
  }
 },
 "nbformat": 4,
 "nbformat_minor": 0
}
